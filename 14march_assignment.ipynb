{
 "cells": [
  {
   "cell_type": "markdown",
   "id": "185666fb-2bc5-4db5-bd64-d53828a14dca",
   "metadata": {},
   "source": [
    "Q1. Write a Python function that takes in two arrays of data and calculates the F-value for a variance ratio\n",
    "test. The function should return the F-value and the corresponding p-value for the test."
   ]
  },
  {
   "cell_type": "code",
   "execution_count": 8,
   "id": "33ffaacf-1ebf-44f7-8085-4ab5af9327c7",
   "metadata": {},
   "outputs": [],
   "source": [
    "#Answer:\n",
    "import numpy as np\n",
    "import scipy.stats as stat\n",
    "def f_test_stats(data1,data2):\n",
    "    #converting data into array\n",
    "    data1 = np.array(data1)\n",
    "    data2 = np.array(data2)\n",
    "    #calculating the f value\n",
    "    f_val = np.var(data1)/np.var(data2)\n",
    "    #assuming degree of freedom of both data.\n",
    "    df1 = len(data1)-1\n",
    "    df2 = len(data2)-1\n",
    "    #calculating p value:\n",
    "    p_val = 1-stat.f.cdf(f_val,df1,df2)\n",
    "    \n",
    "    return \"f_value is : \",f_val,\" \",\"p_value is : \",p_val\n",
    "    "
   ]
  },
  {
   "cell_type": "code",
   "execution_count": 9,
   "id": "152a7b42-8544-4412-aadc-de590c3f7a97",
   "metadata": {},
   "outputs": [],
   "source": [
    "d1 = [1,2,3,4,5,6,7,8,9]\n",
    "d2 = [9,8,7,6,5,4,3,2,1]"
   ]
  },
  {
   "cell_type": "code",
   "execution_count": 10,
   "id": "3dfaedf6-8f36-495d-89f1-295581f4d190",
   "metadata": {},
   "outputs": [
    {
     "data": {
      "text/plain": [
       "('f_value is : ', 1.0, ' ', 'p_value is : ', 0.5000000000000001)"
      ]
     },
     "execution_count": 10,
     "metadata": {},
     "output_type": "execute_result"
    }
   ],
   "source": [
    "f_test_stats(d1,d2)"
   ]
  },
  {
   "cell_type": "code",
   "execution_count": null,
   "id": "0835958d-9590-4850-8ffb-5489949ac341",
   "metadata": {},
   "outputs": [],
   "source": []
  },
  {
   "cell_type": "markdown",
   "id": "dad4a5c3-bc5b-47cf-843c-0df1ef901cb1",
   "metadata": {},
   "source": [
    "Q2. Given a significance level of 0.05 and the degrees of freedom for the numerator and denominator of an\n",
    "F-distribution, write a Python function that returns the critical F-value for a two-tailed test."
   ]
  },
  {
   "cell_type": "code",
   "execution_count": 17,
   "id": "f4d5f547-0fb9-405a-a679-7f70964db762",
   "metadata": {},
   "outputs": [],
   "source": [
    "#Answer:\n",
    "\n",
    "def c_val_return(significance_val,numerator,denominator):\n",
    "    df1 = len(numerator)-1 #degree of freedom numerator\n",
    "    df2 = len(denominator)-1 #degree of freedom denominator\n",
    "    #calculating c_val\n",
    "    c_val = stat.f.ppf(q=1-significance_val,dfn=df1,dfd=df2)\n",
    "    return c_val"
   ]
  },
  {
   "cell_type": "code",
   "execution_count": 18,
   "id": "2bdcc99d-b13c-4d0b-b776-831a374fe718",
   "metadata": {},
   "outputs": [],
   "source": [
    "d1 = [1,2,3,4,5,6,7,8,9,1,2,34,5,3]\n",
    "d2 = [9,8,7,6,5,4,3,2,1,8,9,0,67]\n",
    "s = 0.01"
   ]
  },
  {
   "cell_type": "code",
   "execution_count": 19,
   "id": "d4c4f01f-cd58-4162-a539-0006fbac3f36",
   "metadata": {},
   "outputs": [
    {
     "data": {
      "text/plain": [
       "4.099850752451709"
      ]
     },
     "execution_count": 19,
     "metadata": {},
     "output_type": "execute_result"
    }
   ],
   "source": [
    "c_val_return(s,d1,d2)"
   ]
  },
  {
   "cell_type": "code",
   "execution_count": null,
   "id": "2d6c91a6-4180-458b-8745-577c42180b41",
   "metadata": {},
   "outputs": [],
   "source": []
  },
  {
   "cell_type": "markdown",
   "id": "56830188-0c12-4c79-b64f-8049e6d1eaef",
   "metadata": {},
   "source": [
    "Q3. Write a Python program that generates random samples from two normal distributions with known\n",
    "\n",
    "variances and uses an F-test to determine if the variances are equal. The program should output the F-\n",
    "value, degrees of freedom, and p-value for the test."
   ]
  },
  {
   "cell_type": "code",
   "execution_count": 32,
   "id": "cdf38063-252c-41b5-b0e8-8971d4335264",
   "metadata": {},
   "outputs": [
    {
     "name": "stdout",
     "output_type": "stream",
     "text": [
      "Generated Data:\n",
      "Data 1: [ 2.05897344 -4.10680866 -2.53438591 -0.06306043  1.53035998 -0.04024967\n",
      "  1.41733497 -1.97922196  2.03363789 -1.33485772 -1.42117052 -0.9475153\n",
      "  2.21333472  0.95170849  0.76016165  0.63756292 -0.40467788 -1.13164241\n",
      "  1.74726107 -1.21995335]\n",
      "Data 2: [-1.11230259e+00 -4.16346112e-01 -7.38163387e-01  2.23033300e+00\n",
      " -4.80349406e-02  7.61971194e-02 -1.02009410e+00  2.23869041e+00\n",
      "  7.06953936e-01  1.52781818e-03 -5.08821229e-01 -1.62739943e+00\n",
      " -4.70060825e-01  8.11025198e-01 -4.53846330e-02  2.71359678e+00\n",
      " -2.94112660e-01  1.24021032e+00 -1.68057878e+00 -2.56896750e+00]\n",
      "F-value: 1.6044861965202857\n",
      "Degrees of Freedom (numerator): 0.1556798003845401\n",
      "Degrees of Freedom (denominator): 19\n",
      "p-value: 19\n"
     ]
    }
   ],
   "source": [
    "#Answer:\n",
    "\n",
    "def variance_test(data1,data2):\n",
    "    variance1 = np.var(data1)\n",
    "    variance2 = np.var(data2)\n",
    "    \n",
    "    if variance1 >= variance2:\n",
    "        f_value1 = variance1/variance2\n",
    "    else:\n",
    "        f_value1 = variance2/variance1\n",
    "    \n",
    "    dof1 = len(data1)-1\n",
    "    dof2 = len(data2)-1\n",
    "    \n",
    "    p_value1 = 1-stat.f.cdf(f_value1,dof1,dof2)\n",
    "    return f_value1,p_value1,dof1,dof2\n",
    "\n",
    "def main():\n",
    "    variance1 =  5.0\n",
    "    variance2 = 2.0\n",
    "    sample_size = 20\n",
    "    \n",
    "    data1 = np.random.normal(loc=0, scale=np.sqrt(variance1), size=sample_size)\n",
    "    data2 = np.random.normal(loc=0, scale=np.sqrt(variance2), size=sample_size)\n",
    "    \n",
    "    F_value1, dof1, dfo2, p_value1 = variance_test(data1, data2)\n",
    "    \n",
    "    print(\"Generated Data:\")\n",
    "    print(\"Data 1:\", data1)\n",
    "    print(\"Data 2:\", data2)\n",
    "    print(\"F-value:\", F_value1)\n",
    "    print(\"Degrees of Freedom (numerator):\", dof1)\n",
    "    print(\"Degrees of Freedom (denominator):\", dfo2)\n",
    "    print(\"p-value:\", p_value1)\n",
    "\n",
    "if __name__ == \"__main__\":\n",
    "    main()"
   ]
  },
  {
   "cell_type": "code",
   "execution_count": null,
   "id": "ffdf295b-ebd3-46c8-b35f-db41a4eee44a",
   "metadata": {},
   "outputs": [],
   "source": []
  },
  {
   "cell_type": "markdown",
   "id": "b2238dcd-f21a-41ea-98b8-12e46ab18ab7",
   "metadata": {},
   "source": [
    "Q4.The variances of two populations are known to be 10 and 15. A sample of 12 observations is taken from\n",
    "each population. Conduct an F-test at the 5% significance level to determine if the variances are\n",
    "significantly different."
   ]
  },
  {
   "cell_type": "code",
   "execution_count": 45,
   "id": "16c7e8bb-105b-4531-a80d-7dab40bc161e",
   "metadata": {},
   "outputs": [
    {
     "name": "stdout",
     "output_type": "stream",
     "text": [
      "fail to reject the null hypothesis\n",
      "variaces are significantly different\n"
     ]
    }
   ],
   "source": [
    "#Answer:\n",
    "variance_1 = 10\n",
    "variance_2 = 15\n",
    "sample_size  = 12\n",
    "f_test_val = variance_2/variance_1\n",
    "df11 = sample_size-1\n",
    "df22 = sample_size-1\n",
    "significance_1122 = 0.05\n",
    "c_val_1122 = stat.f.ppf(q=1-significance_1122,dfn=df11,dfd=df22)\n",
    "if f_test_val > c_val_1122:\n",
    "    print(\"reject the null hypothesis\")\n",
    "    print(\"variances are equal\")\n",
    "else:\n",
    "    print(\"fail to reject the null hypothesis\")\n",
    "    print(\"variaces are significantly different\")"
   ]
  },
  {
   "cell_type": "code",
   "execution_count": null,
   "id": "bb5ffc25-e492-4484-9c5c-7feafdf9e6e6",
   "metadata": {},
   "outputs": [],
   "source": []
  },
  {
   "cell_type": "markdown",
   "id": "334cb87b-0b42-46d3-ba98-03ecb2cd24d1",
   "metadata": {},
   "source": [
    "Q5. A manufacturer claims that the variance of the diameter of a certain product is 0.005. A sample of 25\n",
    "products is taken, and the sample variance is found to be 0.006. Conduct an F-test at the 1% significance\n",
    "level to determine if the claim is justified."
   ]
  },
  {
   "cell_type": "code",
   "execution_count": 52,
   "id": "31a6614e-1627-4494-b23e-09923f31f139",
   "metadata": {},
   "outputs": [
    {
     "name": "stdout",
     "output_type": "stream",
     "text": [
      "fail to reject the null hypothesis\n",
      "the claim is justified.\n"
     ]
    }
   ],
   "source": [
    "#Answer:\n",
    "var1 = 0.005\n",
    "var2 = 0.006\n",
    "sample_size1 = 25\n",
    "\n",
    "ftest = var1/var2\n",
    "\n",
    "df_var1 = (sample_size1)-1\n",
    "df_var2 = (sample_size1)-1\n",
    "sign_val = 0.01\n",
    "\n",
    "c_val_ftest = stat.f.ppf(q=1-sign_val,dfn=df_var1,dfd=df_var2)\n",
    "\n",
    "if ftest> c_val_ftest:\n",
    "    print(\"reject the null hypothesis\")\n",
    "    print(\"the claim is not justified.\")\n",
    "else:\n",
    "    print(\"fail to reject the null hypothesis\")\n",
    "    print(\"the claim is justified.\")"
   ]
  },
  {
   "cell_type": "code",
   "execution_count": null,
   "id": "6e1e3c78-9f12-4dda-8444-ff8a6167842d",
   "metadata": {},
   "outputs": [],
   "source": []
  },
  {
   "cell_type": "markdown",
   "id": "95c17010-71d4-4e84-875f-c60b5cf4b494",
   "metadata": {},
   "source": [
    "Q6. Write a Python function that takes in the degrees of freedom for the numerator and denominator of an\n",
    "F-distribution and calculates the mean and variance of the distribution. The function should return the\n",
    "mean and variance as a tuple."
   ]
  },
  {
   "cell_type": "code",
   "execution_count": 56,
   "id": "cc7c113d-a973-405d-be8e-5dc4a3574938",
   "metadata": {},
   "outputs": [],
   "source": [
    "#Answer:\n",
    "\n",
    "def f_distribution_mean_variance(df1, df2):\n",
    "    mean = df2 / (df2 - 2)\n",
    "    variance = (2 * df2 ** 2 * (df1 + df2 - 2)) / (df1 * (df2 - 2) ** 2 * (df2 - 4))\n",
    "    return mean,variance"
   ]
  },
  {
   "cell_type": "code",
   "execution_count": 57,
   "id": "de6b8386-13af-4e4a-83b9-b58616913f99",
   "metadata": {},
   "outputs": [
    {
     "data": {
      "text/plain": [
       "(1.4, 2.3955555555555557)"
      ]
     },
     "execution_count": 57,
     "metadata": {},
     "output_type": "execute_result"
    }
   ],
   "source": [
    "f_distribution_mean_variance(6,7)"
   ]
  },
  {
   "cell_type": "code",
   "execution_count": null,
   "id": "ff385445-c0b9-43c5-98a3-7dc68414a232",
   "metadata": {},
   "outputs": [],
   "source": []
  },
  {
   "cell_type": "markdown",
   "id": "30fa610b-181d-49a4-ba67-8a9cd125395b",
   "metadata": {},
   "source": [
    "Q7. A random sample of 10 measurements is taken from a normal population with unknown variance. The\n",
    "sample variance is found to be 25. Another random sample of 15 measurements is taken from another\n",
    "normal population with unknown variance, and the sample variance is found to be 20. Conduct an F-test\n",
    "at the 10% significance level to determine if the variances are significantly different."
   ]
  },
  {
   "cell_type": "code",
   "execution_count": 85,
   "id": "b7baa6de-8c28-4152-a56d-d77447838bf8",
   "metadata": {},
   "outputs": [],
   "source": [
    "#Answer:\n",
    "\n",
    "def f_test_variance(sample_variance1, sample_variance2, sample_size1, sample_size2, alpha):\n",
    "    # Calculate the F-value\n",
    "    f_values = sample_variance1 / sample_variance2 if sample_variance1 >= sample_variance2 else sample_variance2 / sample_variance1\n",
    "\n",
    "    # Calculate degrees of freedom\n",
    "    df1 = sample_size1 - 1\n",
    "    df2 = sample_size2 - 1\n",
    "\n",
    "    c_values = stat.f.ppf(q=1-alpha, dfn = df1,dfd= df2)\n",
    "\n",
    "    if f_values > c_values:\n",
    "        print(\"Reject the null hypothesis. The variances are significantly different.\")\n",
    "    else:\n",
    "        print(\"Fail to reject the null hypothesis. The variances are not significantly different.\")\n"
   ]
  },
  {
   "cell_type": "code",
   "execution_count": 86,
   "id": "03b47b14-f485-4596-bdcf-0a7a497e78c6",
   "metadata": {},
   "outputs": [
    {
     "name": "stdout",
     "output_type": "stream",
     "text": [
      "Fail to reject the null hypothesis. The variances are not significantly different.\n"
     ]
    }
   ],
   "source": [
    "f_test_variance(25,20,10,15,0.01)"
   ]
  },
  {
   "cell_type": "code",
   "execution_count": null,
   "id": "9641233b-2552-46c8-9cb6-7dc352e2629e",
   "metadata": {},
   "outputs": [],
   "source": []
  },
  {
   "cell_type": "markdown",
   "id": "2a66004d-3dcf-447a-b5aa-57eb7e579914",
   "metadata": {},
   "source": [
    "Q8. The following data represent the waiting times in minutes at two different restaurants on a Saturday\n",
    "night: Restaurant A: 24, 25, 28, 23, 22, 20, 27; Restaurant B: 31, 33, 35, 30, 32, 36. Conduct an F-test at the 5%\n",
    "significance level to determine if the variances are significantly different."
   ]
  },
  {
   "cell_type": "code",
   "execution_count": 88,
   "id": "472e229d-eaef-424b-a76d-b45849aac4c4",
   "metadata": {},
   "outputs": [
    {
     "name": "stdout",
     "output_type": "stream",
     "text": [
      "Fail to reject the null hypothesis. The variances are not significantly different.\n"
     ]
    }
   ],
   "source": [
    "#Answer:\n",
    "A = [24,25,28,23,22,20,27]\n",
    "B = [31,33,35,30,32,36]\n",
    "\n",
    "v1 = np.var(A)\n",
    "v2 = np.var(B)\n",
    "\n",
    "if v1>v2:\n",
    "    ft = v1/v2\n",
    "else:\n",
    "    ft=v2/v1\n",
    "\n",
    "df_1 = len(A)-1\n",
    "df_2 = len(B)-1\n",
    "sig_alpha = 0.05\n",
    "\n",
    "cv = stat.f.ppf(q=1-sig_alpha,dfn=df_1,dfd=df_2)\n",
    "\n",
    "if ft > cv:\n",
    "    print(\"Reject the null hypothesis. The variances are significantly different.\")\n",
    "else:\n",
    "    print(\"Fail to reject the null hypothesis. The variances are not significantly different.\")\n"
   ]
  },
  {
   "cell_type": "code",
   "execution_count": null,
   "id": "6b97438a-0428-405a-be33-ae9cd1ba9db9",
   "metadata": {},
   "outputs": [],
   "source": []
  },
  {
   "cell_type": "markdown",
   "id": "89897656-9582-450a-87b4-37d9aca3466a",
   "metadata": {},
   "source": [
    "Q9. The following data represent the test scores of two groups of students: Group A: 80, 85, 90, 92, 87, 83;\n",
    "Group B: 75, 78, 82, 79, 81, 84. Conduct an F-test at the 1% significance level to determine if the variances\n",
    "are significantly different."
   ]
  },
  {
   "cell_type": "code",
   "execution_count": 89,
   "id": "d61ae980-791a-42e9-8cc3-a66881e62a4d",
   "metadata": {},
   "outputs": [
    {
     "name": "stdout",
     "output_type": "stream",
     "text": [
      "Fail to reject the null hypothesis. The variances are not significantly different.\n"
     ]
    }
   ],
   "source": [
    "#Answer:\n",
    "A1 = [80, 85, 90, 92, 87, 83]\n",
    "B1 = [75, 78, 82, 79, 81, 84]\n",
    "\n",
    "v11 = np.var(A1)\n",
    "v21 = np.var(B1)\n",
    "\n",
    "if v11>v21:\n",
    "    ft1 = v11/v21\n",
    "else:\n",
    "    ft1=v21/v11\n",
    "\n",
    "df_11 = len(A1)-1\n",
    "df_21 = len(B1)-1\n",
    "sig_alpha1 = 0.05\n",
    "\n",
    "cv1= stat.f.ppf(q=1-sig_alpha1,dfn=df_11,dfd=df_21)\n",
    "\n",
    "if ft1 > cv1:\n",
    "    print(\"Reject the null hypothesis. The variances are significantly different.\")\n",
    "else:\n",
    "    print(\"Fail to reject the null hypothesis. The variances are not significantly different.\")\n"
   ]
  },
  {
   "cell_type": "code",
   "execution_count": null,
   "id": "4a33cd53-397c-4095-9574-1407cea61f51",
   "metadata": {},
   "outputs": [],
   "source": []
  }
 ],
 "metadata": {
  "kernelspec": {
   "display_name": "Python 3 (ipykernel)",
   "language": "python",
   "name": "python3"
  },
  "language_info": {
   "codemirror_mode": {
    "name": "ipython",
    "version": 3
   },
   "file_extension": ".py",
   "mimetype": "text/x-python",
   "name": "python",
   "nbconvert_exporter": "python",
   "pygments_lexer": "ipython3",
   "version": "3.10.6"
  }
 },
 "nbformat": 4,
 "nbformat_minor": 5
}
